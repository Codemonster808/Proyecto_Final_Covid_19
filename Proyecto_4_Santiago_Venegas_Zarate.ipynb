{
  "nbformat": 4,
  "nbformat_minor": 0,
  "metadata": {
    "colab": {
      "name": "Proyecto_4_Santiago_Venegas_Zarate.ipynb",
      "provenance": [],
      "collapsed_sections": [
        "AHbMp3JWLcsI",
        "eyFvp6a9SX_T",
        "Hz1nUBfxcxOP",
        "GQjQUh9QeKZl",
        "u2b-yQziemV1",
        "fOOk7UQN_-xy",
        "BWQru9bw8H4t",
        "LXKL5Bk299Ek",
        "BCejlEcJE2KL",
        "5VG8YwmgAyqD",
        "DdERbobehufE"
      ]
    },
    "kernelspec": {
      "display_name": "Python 3",
      "name": "python3"
    },
    "language_info": {
      "name": "python"
    }
  },
  "cells": [
    {
      "cell_type": "markdown",
      "metadata": {
        "id": "a4KP0Qf-N_C6"
      },
      "source": [
        "# -El COVID-19 los resultados países desarrollados vs países en vía de desarrollo"
      ]
    },
    {
      "cell_type": "markdown",
      "metadata": {
        "id": "i7qpoK0AKDYY"
      },
      "source": [
        "## A medida que la humanidad avanza cada vez más en la implementación de soluciones enfocadas a la recolección de datos y en base a estos tomar decisiones; vemos como cada vez más el científico de datos es útil en distintos lugares donde estos conocimientos y técnicas no eran usadas, y en medio de esta era donde existe un mar de información.  acaeció la pandemia lo que trajo una oportunidad para todas las personas en el campo de trabajar con datos recién generados; esta recolección de datos ha sido realizada en su mayoría por varias entidades de tipo gubernamental en su mayoría ayudados del sector educativo.\n",
        "\n",
        "## Para el siguiente informe usamos los datos recolectados por la universidad John Hopkins la cual a través de sus facultades de ciencia e ingeniería se encargaron de recopilar los datos provenientes de centros de control de enfermedades, hospitales , fuentes oficiales , reportes epidemiológicos por país , bancos y otras entidades que recopilan información relevante para el análisis del desarrollo de esta crisis de salud publica   \n",
        "\n",
        "## Link de descarga para el notebook:https://github.com/Codemonster808/Proyecto_Final_Covid_19/blob/main/Proyecto_4_Santiago_Venegas_Zarate.ipynb"
      ]
    },
    {
      "cell_type": "code",
      "metadata": {
        "id": "EeoJPP0uVEdB"
      },
      "source": [
        "import numpy as np\n",
        "import seaborn as sns\n",
        "import pandas as pd\n",
        "import pylab as plt\n",
        "import numpy as np\n",
        "sns.set()\n",
        "%matplotlib inline\n",
        "import pylab as plt\n",
        "from google.colab import drive\n",
        "from scipy.optimize import curve_fit\n",
        "from sklearn.metrics import mean_squared_error\n",
        "from sklearn import metrics"
      ],
      "execution_count": null,
      "outputs": []
    },
    {
      "cell_type": "code",
      "metadata": {
        "colab": {
          "base_uri": "https://localhost:8080/"
        },
        "id": "aR3RjqhnVLRB",
        "outputId": "52aafe4b-d497-4f27-c3cc-6022181d4970"
      },
      "source": [
        "\n",
        "#cargamos los datos\n",
        "\n",
        "drive.mount('/content/gdrive', force_remount=True)\n",
        "\n",
        "# Aca deben apuntar a la carpeta de su drive donde guardaron los datos\n",
        "root_dir = \"/content/gdrive/MyDrive/Proyecto 4 (Final)\"\n"
      ],
      "execution_count": null,
      "outputs": [
        {
          "output_type": "stream",
          "name": "stdout",
          "text": [
            "Mounted at /content/gdrive\n"
          ]
        }
      ]
    },
    {
      "cell_type": "code",
      "metadata": {
        "collapsed": true,
        "id": "xvuX_32HXxK0",
        "colab": {
          "base_uri": "https://localhost:8080/",
          "height": 424
        },
        "outputId": "6a07e196-9cb3-41c8-bc07-e53288c69efc"
      },
      "source": [
        "datos=pd.read_csv('/content/gdrive/MyDrive/Proyecto 4 (Final)/covid-tests-cases-deaths.csv')\n",
        "datos"
      ],
      "execution_count": null,
      "outputs": [
        {
          "output_type": "execute_result",
          "data": {
            "text/html": [
              "<div>\n",
              "<style scoped>\n",
              "    .dataframe tbody tr th:only-of-type {\n",
              "        vertical-align: middle;\n",
              "    }\n",
              "\n",
              "    .dataframe tbody tr th {\n",
              "        vertical-align: top;\n",
              "    }\n",
              "\n",
              "    .dataframe thead th {\n",
              "        text-align: right;\n",
              "    }\n",
              "</style>\n",
              "<table border=\"1\" class=\"dataframe\">\n",
              "  <thead>\n",
              "    <tr style=\"text-align: right;\">\n",
              "      <th></th>\n",
              "      <th>Entity</th>\n",
              "      <th>Code</th>\n",
              "      <th>Day</th>\n",
              "      <th>total_tests</th>\n",
              "      <th>142601-annotations</th>\n",
              "      <th>Total confirmed deaths due to COVID-19</th>\n",
              "      <th>Total confirmed cases of COVID-19</th>\n",
              "    </tr>\n",
              "  </thead>\n",
              "  <tbody>\n",
              "    <tr>\n",
              "      <th>0</th>\n",
              "      <td>Afghanistan</td>\n",
              "      <td>AFG</td>\n",
              "      <td>2020-03-23</td>\n",
              "      <td>NaN</td>\n",
              "      <td>NaN</td>\n",
              "      <td>1.0</td>\n",
              "      <td>40.0</td>\n",
              "    </tr>\n",
              "    <tr>\n",
              "      <th>1</th>\n",
              "      <td>Afghanistan</td>\n",
              "      <td>AFG</td>\n",
              "      <td>2020-03-24</td>\n",
              "      <td>NaN</td>\n",
              "      <td>NaN</td>\n",
              "      <td>1.0</td>\n",
              "      <td>42.0</td>\n",
              "    </tr>\n",
              "    <tr>\n",
              "      <th>2</th>\n",
              "      <td>Afghanistan</td>\n",
              "      <td>AFG</td>\n",
              "      <td>2020-03-25</td>\n",
              "      <td>NaN</td>\n",
              "      <td>NaN</td>\n",
              "      <td>1.0</td>\n",
              "      <td>74.0</td>\n",
              "    </tr>\n",
              "    <tr>\n",
              "      <th>3</th>\n",
              "      <td>Afghanistan</td>\n",
              "      <td>AFG</td>\n",
              "      <td>2020-03-26</td>\n",
              "      <td>NaN</td>\n",
              "      <td>NaN</td>\n",
              "      <td>2.0</td>\n",
              "      <td>80.0</td>\n",
              "    </tr>\n",
              "    <tr>\n",
              "      <th>4</th>\n",
              "      <td>Afghanistan</td>\n",
              "      <td>AFG</td>\n",
              "      <td>2020-03-27</td>\n",
              "      <td>NaN</td>\n",
              "      <td>NaN</td>\n",
              "      <td>2.0</td>\n",
              "      <td>91.0</td>\n",
              "    </tr>\n",
              "    <tr>\n",
              "      <th>...</th>\n",
              "      <td>...</td>\n",
              "      <td>...</td>\n",
              "      <td>...</td>\n",
              "      <td>...</td>\n",
              "      <td>...</td>\n",
              "      <td>...</td>\n",
              "      <td>...</td>\n",
              "    </tr>\n",
              "    <tr>\n",
              "      <th>129532</th>\n",
              "      <td>Zimbabwe</td>\n",
              "      <td>ZWE</td>\n",
              "      <td>2021-11-08</td>\n",
              "      <td>NaN</td>\n",
              "      <td>NaN</td>\n",
              "      <td>4690.0</td>\n",
              "      <td>133205.0</td>\n",
              "    </tr>\n",
              "    <tr>\n",
              "      <th>129533</th>\n",
              "      <td>Zimbabwe</td>\n",
              "      <td>ZWE</td>\n",
              "      <td>2021-11-09</td>\n",
              "      <td>NaN</td>\n",
              "      <td>NaN</td>\n",
              "      <td>4691.0</td>\n",
              "      <td>133242.0</td>\n",
              "    </tr>\n",
              "    <tr>\n",
              "      <th>129534</th>\n",
              "      <td>Zimbabwe</td>\n",
              "      <td>ZWE</td>\n",
              "      <td>2020-03-20</td>\n",
              "      <td>NaN</td>\n",
              "      <td>NaN</td>\n",
              "      <td>NaN</td>\n",
              "      <td>1.0</td>\n",
              "    </tr>\n",
              "    <tr>\n",
              "      <th>129535</th>\n",
              "      <td>Zimbabwe</td>\n",
              "      <td>ZWE</td>\n",
              "      <td>2020-03-21</td>\n",
              "      <td>NaN</td>\n",
              "      <td>NaN</td>\n",
              "      <td>NaN</td>\n",
              "      <td>3.0</td>\n",
              "    </tr>\n",
              "    <tr>\n",
              "      <th>129536</th>\n",
              "      <td>Zimbabwe</td>\n",
              "      <td>ZWE</td>\n",
              "      <td>2020-03-22</td>\n",
              "      <td>NaN</td>\n",
              "      <td>NaN</td>\n",
              "      <td>NaN</td>\n",
              "      <td>3.0</td>\n",
              "    </tr>\n",
              "  </tbody>\n",
              "</table>\n",
              "<p>129537 rows × 7 columns</p>\n",
              "</div>"
            ],
            "text/plain": [
              "             Entity  ... Total confirmed cases of COVID-19\n",
              "0       Afghanistan  ...                              40.0\n",
              "1       Afghanistan  ...                              42.0\n",
              "2       Afghanistan  ...                              74.0\n",
              "3       Afghanistan  ...                              80.0\n",
              "4       Afghanistan  ...                              91.0\n",
              "...             ...  ...                               ...\n",
              "129532     Zimbabwe  ...                          133205.0\n",
              "129533     Zimbabwe  ...                          133242.0\n",
              "129534     Zimbabwe  ...                               1.0\n",
              "129535     Zimbabwe  ...                               3.0\n",
              "129536     Zimbabwe  ...                               3.0\n",
              "\n",
              "[129537 rows x 7 columns]"
            ]
          },
          "metadata": {},
          "execution_count": 5
        }
      ]
    },
    {
      "cell_type": "code",
      "metadata": {
        "id": "avKRmQzGYiMV"
      },
      "source": [
        "paises = datos['Entity'] #cargo el vector de paises\n",
        "confirmados = datos['Total confirmed cases of COVID-19'] #carga vector todos los casos confirmados"
      ],
      "execution_count": null,
      "outputs": []
    },
    {
      "cell_type": "markdown",
      "metadata": {
        "id": "n4OjH0tKD7_7"
      },
      "source": [
        "## Antes de ahondar en los países escogidos para este análisis , vamos a explorar un poco que columnas tiene el dataset como otras medidas estadísticas que nos serán de utilidad después."
      ]
    },
    {
      "cell_type": "code",
      "metadata": {
        "colab": {
          "base_uri": "https://localhost:8080/"
        },
        "id": "KfTC7JeUCeMz",
        "outputId": "e6e3ce1c-747d-4cb1-c9f1-447c983ed8e6"
      },
      "source": [
        "datos.shape"
      ],
      "execution_count": null,
      "outputs": [
        {
          "output_type": "execute_result",
          "data": {
            "text/plain": [
              "(129537, 7)"
            ]
          },
          "metadata": {},
          "execution_count": 7
        }
      ]
    },
    {
      "cell_type": "code",
      "metadata": {
        "id": "yi8J_PKoy42s"
      },
      "source": [
        "datos1 = datos.copy()"
      ],
      "execution_count": null,
      "outputs": []
    },
    {
      "cell_type": "code",
      "metadata": {
        "colab": {
          "base_uri": "https://localhost:8080/"
        },
        "id": "wz_m5lcM_Q6X",
        "outputId": "42b32dd5-4560-4b61-f9ba-75638401fb4a"
      },
      "source": [
        "datos.info()"
      ],
      "execution_count": null,
      "outputs": [
        {
          "output_type": "stream",
          "name": "stdout",
          "text": [
            "<class 'pandas.core.frame.DataFrame'>\n",
            "RangeIndex: 129537 entries, 0 to 129536\n",
            "Data columns (total 7 columns):\n",
            " #   Column                                  Non-Null Count   Dtype  \n",
            "---  ------                                  --------------   -----  \n",
            " 0   Entity                                  129537 non-null  object \n",
            " 1   Code                                    117502 non-null  object \n",
            " 2   Day                                     129537 non-null  object \n",
            " 3   total_tests                             56821 non-null   float64\n",
            " 4   142601-annotations                      55146 non-null   object \n",
            " 5   Total confirmed deaths due to COVID-19  116483 non-null  float64\n",
            " 6   Total confirmed cases of COVID-19       127772 non-null  float64\n",
            "dtypes: float64(3), object(4)\n",
            "memory usage: 6.9+ MB\n"
          ]
        }
      ]
    },
    {
      "cell_type": "markdown",
      "metadata": {
        "id": "QA4H0Fw7FqcS"
      },
      "source": [
        "## Vamos a ver la cantidad de valores nulos por columnas "
      ]
    },
    {
      "cell_type": "code",
      "metadata": {
        "colab": {
          "base_uri": "https://localhost:8080/"
        },
        "id": "Ggly0KnS_RLD",
        "outputId": "64b4147b-bce0-4b31-c9e2-a7f771b4a085"
      },
      "source": [
        "for col in datos.columns:\n",
        "  nulos= datos[col].isna().sum()\n",
        "  print(col,   \"{:.2f}%\".format(nulos*100/127314))\n"
      ],
      "execution_count": null,
      "outputs": [
        {
          "output_type": "stream",
          "name": "stdout",
          "text": [
            "Entity 0.00%\n",
            "Code 9.45%\n",
            "Day 0.00%\n",
            "total_tests 57.12%\n",
            "142601-annotations 58.43%\n",
            "Total confirmed deaths due to COVID-19 10.25%\n",
            "Total confirmed cases of COVID-19 1.39%\n"
          ]
        }
      ]
    },
    {
      "cell_type": "markdown",
      "metadata": {
        "id": "AHbMp3JWLcsI"
      },
      "source": [
        "\n",
        "## Podemos ver la cantidad de valores faltantes por columnas y a través de esto decidimos trabajar con entity y la cantidad total de casos de  \n"
      ]
    },
    {
      "cell_type": "markdown",
      "metadata": {
        "id": "eyFvp6a9SX_T"
      },
      "source": [
        "\n",
        "## Para este caso en específico vamos a consultar los datos de Colombia frente a Canada y Noruega basados en esta comparativa decidiremos cual país le dio un mejor manejo al COVID. basados en que estrategias tuvieron y los resultados de estas.\n"
      ]
    },
    {
      "cell_type": "markdown",
      "metadata": {
        "id": "JAuTzekN0o5u"
      },
      "source": [
        "## Seleccionamos Colombia\n"
      ]
    },
    {
      "cell_type": "code",
      "metadata": {
        "colab": {
          "base_uri": "https://localhost:8080/",
          "height": 313
        },
        "id": "GZt3IeBaa8pz",
        "outputId": "0c137b48-c07d-461c-e266-31716c134c22"
      },
      "source": [
        "#seleccionamos Colombia\n",
        "\n",
        "ind_col=np.where(paises=='Colombia')\n",
        "ind_col=ind_col[0]\n",
        "casos_col=confirmados[ind_col]\n",
        "dias=np.arange(0,len(casos_col))\n",
        "plt.plot(dias,casos_col)\n",
        "plt.xlabel('dias')\n",
        "plt.ylabel('cantidad de casos')"
      ],
      "execution_count": null,
      "outputs": [
        {
          "output_type": "execute_result",
          "data": {
            "text/plain": [
              "Text(0, 0.5, 'cantidad de casos')"
            ]
          },
          "metadata": {},
          "execution_count": 11
        },
        {
          "output_type": "display_data",
          "data": {
            "image/png": "[encoded data removed]",
            "text/plain": [
              "<Figure size 432x288 with 1 Axes>"
            ]
          },
          "metadata": {
            "needs_background": "light"
          }
        }
      ]
    },
    {
      "cell_type": "markdown",
      "metadata": {
        "id": "v52rSiSB0yQQ"
      },
      "source": [
        "## Seleccionamos Noruega\n"
      ]
    },
    {
      "cell_type": "code",
      "metadata": {
        "colab": {
          "base_uri": "https://localhost:8080/",
          "height": 302
        },
        "id": "tjhsDDLg5PhV",
        "outputId": "29072cb2-3d72-407c-f2a4-5bcfc00ad4d1"
      },
      "source": [
        "ind_nor=np.where(paises=='Norway')\n",
        "ind_nor=ind_nor[0]\n",
        "casos_nor=confirmados[ind_nor]\n",
        "diasN=np.arange(0,len(casos_nor))\n",
        "plt.plot(diasN,casos_nor)\n",
        "plt.xlabel('dias')\n",
        "plt.ylabel('cantidad de casos')"
      ],
      "execution_count": null,
      "outputs": [
        {
          "output_type": "execute_result",
          "data": {
            "text/plain": [
              "Text(0, 0.5, 'cantidad de casos')"
            ]
          },
          "metadata": {},
          "execution_count": 12
        },
        {
          "output_type": "display_data",
          "data": {
            "image/png": "[encoded data removed]",
            "text/plain": [
              "<Figure size 432x288 with 1 Axes>"
            ]
          },
          "metadata": {
            "needs_background": "light"
          }
        }
      ]
    },
    {
      "cell_type": "markdown",
      "metadata": {
        "id": "rutl6ntR2GZq"
      },
      "source": [
        "## Seleccionamos Canadá"
      ]
    },
    {
      "cell_type": "code",
      "metadata": {
        "colab": {
          "base_uri": "https://localhost:8080/",
          "height": 313
        },
        "id": "lXUJthCc5WK-",
        "outputId": "0c6b3049-50b4-4704-db48-357f2332e444"
      },
      "source": [
        "ind_can=np.where(paises=='Canada')\n",
        "ind_can=ind_can[0]\n",
        "casos_can=confirmados[ind_can]\n",
        "diasC=np.arange(0,len(casos_can))\n",
        "plt.plot(diasC,casos_can)\n",
        "plt.xlabel('dias')\n",
        "plt.ylabel('cantidad de casos')"
      ],
      "execution_count": null,
      "outputs": [
        {
          "output_type": "execute_result",
          "data": {
            "text/plain": [
              "Text(0, 0.5, 'cantidad de casos')"
            ]
          },
          "metadata": {},
          "execution_count": 13
        },
        {
          "output_type": "display_data",
          "data": {
            "image/png": "[encoded data removed]",
            "text/plain": [
              "<Figure size 432x288 with 1 Axes>"
            ]
          },
          "metadata": {
            "needs_background": "light"
          }
        }
      ]
    },
    {
      "cell_type": "markdown",
      "metadata": {
        "id": "Hz1nUBfxcxOP"
      },
      "source": [
        "##Estas son las curvas de **casos totales** de Colombia Noruega y Canadá. Aquí no se ven las olas, ya que estas se ven en la curva de casos confirmados por día, es decir, de casos nuevos. Esta habla de los acumulados, entonces siempre se agregan.\n",
        "\n",
        "##Para ver mejor la curva, podemos tomar el logaritmo de los datos. Una curva exponencial se ve lineal en escala logarítmica\n",
        "\n"
      ]
    },
    {
      "cell_type": "markdown",
      "metadata": {
        "id": "k62Lf3_n3QgO"
      },
      "source": [
        "## Colombia"
      ]
    },
    {
      "cell_type": "code",
      "metadata": {
        "colab": {
          "base_uri": "https://localhost:8080/",
          "height": 303
        },
        "id": "F1oMHfLlbpld",
        "outputId": "981addfd-ee10-402a-f0ad-48a974405878"
      },
      "source": [
        "plt.plot(dias,np.log(casos_col))\n",
        "plt.xlabel('dias')\n",
        "plt.ylabel('log cantidad de casos')"
      ],
      "execution_count": null,
      "outputs": [
        {
          "output_type": "execute_result",
          "data": {
            "text/plain": [
              "Text(0, 0.5, 'log cantidad de casos')"
            ]
          },
          "metadata": {},
          "execution_count": 14
        },
        {
          "output_type": "display_data",
          "data": {
            "image/png": "[encoded data removed]",
            "text/plain": [
              "<Figure size 432x288 with 1 Axes>"
            ]
          },
          "metadata": {
            "needs_background": "light"
          }
        }
      ]
    },
    {
      "cell_type": "markdown",
      "metadata": {
        "id": "RGRS0w2k3TRa"
      },
      "source": [
        "## Noruega"
      ]
    },
    {
      "cell_type": "code",
      "metadata": {
        "colab": {
          "base_uri": "https://localhost:8080/",
          "height": 302
        },
        "id": "DAqYh6Je5baw",
        "outputId": "7677007b-81b0-4a06-9784-8d2812e9e722"
      },
      "source": [
        "plt.plot(diasN,np.log(casos_nor))\n",
        "plt.xlabel('dias')\n",
        "plt.ylabel('log cantidad de casos')"
      ],
      "execution_count": null,
      "outputs": [
        {
          "output_type": "execute_result",
          "data": {
            "text/plain": [
              "Text(0, 0.5, 'log cantidad de casos')"
            ]
          },
          "metadata": {},
          "execution_count": 15
        },
        {
          "output_type": "display_data",
          "data": {
            "image/png": "[encoded data removed]",
            "text/plain": [
              "<Figure size 432x288 with 1 Axes>"
            ]
          },
          "metadata": {
            "needs_background": "light"
          }
        }
      ]
    },
    {
      "cell_type": "markdown",
      "metadata": {
        "id": "TUpnRqfI3XbT"
      },
      "source": [
        "## Canada"
      ]
    },
    {
      "cell_type": "code",
      "metadata": {
        "colab": {
          "base_uri": "https://localhost:8080/",
          "height": 302
        },
        "id": "Q3E3CAJTzYNC",
        "outputId": "2222e2f8-bf57-41a1-df68-33b857de50ff"
      },
      "source": [
        "plt.plot(diasC,np.log(casos_can))\n",
        "plt.xlabel('dias')\n",
        "plt.ylabel('log cantidad de casos')"
      ],
      "execution_count": null,
      "outputs": [
        {
          "output_type": "execute_result",
          "data": {
            "text/plain": [
              "Text(0, 0.5, 'log cantidad de casos')"
            ]
          },
          "metadata": {},
          "execution_count": 16
        },
        {
          "output_type": "display_data",
          "data": {
            "image/png": "[encoded data removed]",
            "text/plain": [
              "<Figure size 432x288 with 1 Axes>"
            ]
          },
          "metadata": {
            "needs_background": "light"
          }
        }
      ]
    },
    {
      "cell_type": "markdown",
      "metadata": {
        "id": "GQjQUh9QeKZl"
      },
      "source": [
        "## Veamos lo que pasa en los primeros 60 días desde que se detectó el   primer caso en Colombia,Noruega y Canadá para ver cómo fue el     $k$     inicial y de que manera se comporta esta constante a travez del tiempo. "
      ]
    },
    {
      "cell_type": "markdown",
      "metadata": {
        "id": "zb6Tt8Xk3_49"
      },
      "source": [
        "## Colombia"
      ]
    },
    {
      "cell_type": "code",
      "metadata": {
        "colab": {
          "base_uri": "https://localhost:8080/",
          "height": 302
        },
        "id": "p0MBIAOldeSs",
        "outputId": "019d32a6-8555-4456-8723-6bd12577c02a"
      },
      "source": [
        "casos_principio=casos_col[0:60]\n",
        "dias_principio=dias[0:60]\n",
        "\n",
        "plt.plot(dias_principio,casos_principio)\n",
        "plt.xlabel('dias')\n",
        "plt.ylabel('cantidad de casos')"
      ],
      "execution_count": null,
      "outputs": [
        {
          "output_type": "execute_result",
          "data": {
            "text/plain": [
              "Text(0, 0.5, 'cantidad de casos')"
            ]
          },
          "metadata": {},
          "execution_count": 17
        },
        {
          "output_type": "display_data",
          "data": {
            "image/png": "[encoded data removed]",
            "text/plain": [
              "<Figure size 432x288 with 1 Axes>"
            ]
          },
          "metadata": {
            "needs_background": "light"
          }
        }
      ]
    },
    {
      "cell_type": "markdown",
      "metadata": {
        "id": "kjtTmrxj4DkB"
      },
      "source": [
        "## Noruega"
      ]
    },
    {
      "cell_type": "code",
      "metadata": {
        "colab": {
          "base_uri": "https://localhost:8080/",
          "height": 302
        },
        "id": "Jc_Sd1qJE_kE",
        "outputId": "12aea98e-6f14-4d47-ec59-d1a207081cab"
      },
      "source": [
        "casos_principioN=casos_nor[0:60]\n",
        "dias_principioN=diasN[0:60]\n",
        "\n",
        "plt.plot(dias_principioN,casos_principioN)\n",
        "plt.xlabel('dias')\n",
        "plt.ylabel('cantidad de casos')"
      ],
      "execution_count": null,
      "outputs": [
        {
          "output_type": "execute_result",
          "data": {
            "text/plain": [
              "Text(0, 0.5, 'cantidad de casos')"
            ]
          },
          "metadata": {},
          "execution_count": 18
        },
        {
          "output_type": "display_data",
          "data": {
            "image/png": "[encoded data removed]",
            "text/plain": [
              "<Figure size 432x288 with 1 Axes>"
            ]
          },
          "metadata": {
            "needs_background": "light"
          }
        }
      ]
    },
    {
      "cell_type": "markdown",
      "metadata": {
        "id": "iMWCr7Mn4Hyx"
      },
      "source": [
        "## Canadá"
      ]
    },
    {
      "cell_type": "code",
      "metadata": {
        "colab": {
          "base_uri": "https://localhost:8080/",
          "height": 302
        },
        "id": "wF0Gbx-BFpY0",
        "outputId": "79c52065-700a-49df-8a21-daec8b872950"
      },
      "source": [
        "casos_principioC=casos_can[0:60]\n",
        "dias_principioC=diasC[0:60]\n",
        "\n",
        "plt.plot(dias_principioC,casos_principioC)\n",
        "plt.xlabel('dias')\n",
        "plt.ylabel('cantidad de casos')"
      ],
      "execution_count": null,
      "outputs": [
        {
          "output_type": "execute_result",
          "data": {
            "text/plain": [
              "Text(0, 0.5, 'cantidad de casos')"
            ]
          },
          "metadata": {},
          "execution_count": 19
        },
        {
          "output_type": "display_data",
          "data": {
            "image/png": "[encoded data removed]",
            "text/plain": [
              "<Figure size 432x288 with 1 Axes>"
            ]
          },
          "metadata": {
            "needs_background": "light"
          }
        }
      ]
    },
    {
      "cell_type": "markdown",
      "metadata": {
        "id": "u2b-yQziemV1"
      },
      "source": [
        "## Es difícil determinar si esta parte es exponencial. Analicemos qué pasa en escala logarítmica de cada pais \n",
        "\n",
        "\n"
      ]
    },
    {
      "cell_type": "markdown",
      "metadata": {
        "id": "9Z8Kxj3j_R-A"
      },
      "source": [
        "## Colombia"
      ]
    },
    {
      "cell_type": "code",
      "metadata": {
        "colab": {
          "base_uri": "https://localhost:8080/",
          "height": 302
        },
        "id": "ibBhO71Vehld",
        "outputId": "5b84b85b-9de5-4ded-e711-3d14c1efd870"
      },
      "source": [
        "\n",
        "plt.plot(dias_principio,np.log(casos_principio))\n",
        "plt.xlabel('dias')\n",
        "plt.ylabel('log cantidad de casos')"
      ],
      "execution_count": null,
      "outputs": [
        {
          "output_type": "execute_result",
          "data": {
            "text/plain": [
              "Text(0, 0.5, 'log cantidad de casos')"
            ]
          },
          "metadata": {},
          "execution_count": 20
        },
        {
          "output_type": "display_data",
          "data": {
            "image/png": "[encoded data removed]",
            "text/plain": [
              "<Figure size 432x288 with 1 Axes>"
            ]
          },
          "metadata": {
            "needs_background": "light"
          }
        }
      ]
    },
    {
      "cell_type": "markdown",
      "metadata": {
        "id": "MQh9Qb5K_dOh"
      },
      "source": [
        "## Noruega"
      ]
    },
    {
      "cell_type": "code",
      "metadata": {
        "colab": {
          "base_uri": "https://localhost:8080/",
          "height": 302
        },
        "id": "Wt66OcPtFAEW",
        "outputId": "d8fd4ab5-db6f-491f-e99b-9ef217210716"
      },
      "source": [
        "plt.plot(dias_principioN,np.log(casos_principioN))\n",
        "plt.xlabel('dias')\n",
        "plt.ylabel('log cantidad de casos')"
      ],
      "execution_count": null,
      "outputs": [
        {
          "output_type": "execute_result",
          "data": {
            "text/plain": [
              "Text(0, 0.5, 'log cantidad de casos')"
            ]
          },
          "metadata": {},
          "execution_count": 21
        },
        {
          "output_type": "display_data",
          "data": {
            "image/png": "[encoded data removed]",
            "text/plain": [
              "<Figure size 432x288 with 1 Axes>"
            ]
          },
          "metadata": {
            "needs_background": "light"
          }
        }
      ]
    },
    {
      "cell_type": "markdown",
      "metadata": {
        "id": "7tbnCxRd_h-q"
      },
      "source": [
        "## Canadá "
      ]
    },
    {
      "cell_type": "code",
      "metadata": {
        "colab": {
          "base_uri": "https://localhost:8080/",
          "height": 302
        },
        "id": "jGBsiT_y7Zxc",
        "outputId": "15879504-1e1b-4302-b732-473c87fe36f6"
      },
      "source": [
        "plt.plot(dias_principioC,np.log(casos_principioC))\n",
        "plt.xlabel('dias')\n",
        "plt.ylabel('log cantidad de casos')"
      ],
      "execution_count": null,
      "outputs": [
        {
          "output_type": "execute_result",
          "data": {
            "text/plain": [
              "Text(0, 0.5, 'log cantidad de casos')"
            ]
          },
          "metadata": {},
          "execution_count": 22
        },
        {
          "output_type": "display_data",
          "data": {
            "image/png": "[encoded data removed]",
            "text/plain": [
              "<Figure size 432x288 with 1 Axes>"
            ]
          },
          "metadata": {
            "needs_background": "light"
          }
        }
      ]
    },
    {
      "cell_type": "markdown",
      "metadata": {
        "id": "tagPxpI4e228"
      },
      "source": [
        "Mejor nos quedamos con lo que sucede entre los días 31 y 55, ya que ese fue el comportamiento más sostenido."
      ]
    },
    {
      "cell_type": "markdown",
      "metadata": {
        "id": "Q_bo0tuA_tVv"
      },
      "source": [
        "## Colombia "
      ]
    },
    {
      "cell_type": "code",
      "metadata": {
        "colab": {
          "base_uri": "https://localhost:8080/",
          "height": 302
        },
        "id": "QoSvN6UPe0Sx",
        "outputId": "4f987ea0-d114-42e9-a95c-bf0b76eeec21"
      },
      "source": [
        "casos_principio=casos_col[31:55]\n",
        "dias_principio=dias[31:55]\n",
        "\n",
        "plt.plot(dias_principio,casos_principio)\n",
        "plt.xlabel('dias')\n",
        "plt.ylabel('cantidad de casos')"
      ],
      "execution_count": null,
      "outputs": [
        {
          "output_type": "execute_result",
          "data": {
            "text/plain": [
              "Text(0, 0.5, 'cantidad de casos')"
            ]
          },
          "metadata": {},
          "execution_count": 23
        },
        {
          "output_type": "display_data",
          "data": {
            "image/png": "[encoded data removed]",
            "text/plain": [
              "<Figure size 432x288 with 1 Axes>"
            ]
          },
          "metadata": {
            "needs_background": "light"
          }
        }
      ]
    },
    {
      "cell_type": "markdown",
      "metadata": {
        "id": "FlIhKPDy9RsL"
      },
      "source": [
        "## Noruega"
      ]
    },
    {
      "cell_type": "code",
      "metadata": {
        "colab": {
          "base_uri": "https://localhost:8080/",
          "height": 302
        },
        "id": "RRVNE8C_tCtN",
        "outputId": "48023659-8868-4aed-861f-5b19c0d024fd"
      },
      "source": [
        "casos_principioN=casos_nor[31:55]\n",
        "dias_principioN=diasN[31:55]\n",
        "\n",
        "plt.plot(dias_principioN,casos_principioN)\n",
        "plt.xlabel('dias')\n",
        "plt.ylabel('cantidad de casos')"
      ],
      "execution_count": null,
      "outputs": [
        {
          "output_type": "execute_result",
          "data": {
            "text/plain": [
              "Text(0, 0.5, 'cantidad de casos')"
            ]
          },
          "metadata": {},
          "execution_count": 24
        },
        {
          "output_type": "display_data",
          "data": {
            "image/png": "[encoded data removed]",
            "text/plain": [
              "<Figure size 432x288 with 1 Axes>"
            ]
          },
          "metadata": {
            "needs_background": "light"
          }
        }
      ]
    },
    {
      "cell_type": "markdown",
      "metadata": {
        "id": "gv8d6-gq9N3p"
      },
      "source": [
        "## Canadá\n"
      ]
    },
    {
      "cell_type": "code",
      "metadata": {
        "colab": {
          "base_uri": "https://localhost:8080/",
          "height": 302
        },
        "id": "ZQ-XizGmtDCp",
        "outputId": "f9ca273a-ec84-4e31-f14c-f1ce7a3b25f4"
      },
      "source": [
        "casos_principioC=casos_can[31:55]\n",
        "dias_principioC=diasC[31:55]\n",
        "\n",
        "plt.plot(dias_principioC,casos_principioC)\n",
        "plt.xlabel('dias')\n",
        "plt.ylabel('cantidad de casos')"
      ],
      "execution_count": null,
      "outputs": [
        {
          "output_type": "execute_result",
          "data": {
            "text/plain": [
              "Text(0, 0.5, 'cantidad de casos')"
            ]
          },
          "metadata": {},
          "execution_count": 25
        },
        {
          "output_type": "display_data",
          "data": {
            "image/png": "[encoded data removed]",
            "text/plain": [
              "<Figure size 432x288 with 1 Axes>"
            ]
          },
          "metadata": {
            "needs_background": "light"
          }
        }
      ]
    },
    {
      "cell_type": "markdown",
      "metadata": {
        "id": "fOOk7UQN_-xy"
      },
      "source": [
        "## Vamos ahora a pasar las graficas a escala logaritmica para facilitar la visualzacion. "
      ]
    },
    {
      "cell_type": "markdown",
      "metadata": {
        "id": "WrDS0PUI980u"
      },
      "source": [
        "## Colombia"
      ]
    },
    {
      "cell_type": "code",
      "metadata": {
        "colab": {
          "base_uri": "https://localhost:8080/",
          "height": 302
        },
        "id": "jocr_PfQfDB5",
        "outputId": "927eb5cb-8975-4ea3-a5a0-cd48b0ffd827"
      },
      "source": [
        "plt.plot(dias_principio,np.log(casos_principio))\n",
        "plt.xlabel('dias')\n",
        "plt.ylabel('log cantidad de casos')"
      ],
      "execution_count": null,
      "outputs": [
        {
          "output_type": "execute_result",
          "data": {
            "text/plain": [
              "Text(0, 0.5, 'log cantidad de casos')"
            ]
          },
          "metadata": {},
          "execution_count": 26
        },
        {
          "output_type": "display_data",
          "data": {
            "image/png": "[encoded data removed]",
            "text/plain": [
              "<Figure size 432x288 with 1 Axes>"
            ]
          },
          "metadata": {
            "needs_background": "light"
          }
        }
      ]
    },
    {
      "cell_type": "markdown",
      "metadata": {
        "id": "QnOyfPlB9MXz"
      },
      "source": [
        "## Noruega"
      ]
    },
    {
      "cell_type": "code",
      "metadata": {
        "colab": {
          "base_uri": "https://localhost:8080/",
          "height": 302
        },
        "id": "UZPouMy08ZrA",
        "outputId": "62437ee1-5af7-44a2-9836-ab1534e5a381"
      },
      "source": [
        "plt.plot(dias_principioN,np.log(casos_principioN))\n",
        "plt.xlabel('dias')\n",
        "plt.ylabel('log cantidad de casos')"
      ],
      "execution_count": null,
      "outputs": [
        {
          "output_type": "execute_result",
          "data": {
            "text/plain": [
              "Text(0, 0.5, 'log cantidad de casos')"
            ]
          },
          "metadata": {},
          "execution_count": 27
        },
        {
          "output_type": "display_data",
          "data": {
            "image/png": "[encoded data removed]",
            "text/plain": [
              "<Figure size 432x288 with 1 Axes>"
            ]
          },
          "metadata": {
            "needs_background": "light"
          }
        }
      ]
    },
    {
      "cell_type": "markdown",
      "metadata": {
        "id": "FoZakZGW-AeR"
      },
      "source": [
        "## Canadá"
      ]
    },
    {
      "cell_type": "code",
      "metadata": {
        "colab": {
          "base_uri": "https://localhost:8080/",
          "height": 302
        },
        "id": "lN2sBK1O8Z_s",
        "outputId": "6ed98ec0-5375-43b0-a9d8-e3f7f3d39c9f"
      },
      "source": [
        "plt.plot(dias_principioC,np.log(casos_principioC))\n",
        "plt.xlabel('dias')\n",
        "plt.ylabel('log cantidad de casos')"
      ],
      "execution_count": null,
      "outputs": [
        {
          "output_type": "execute_result",
          "data": {
            "text/plain": [
              "Text(0, 0.5, 'log cantidad de casos')"
            ]
          },
          "metadata": {},
          "execution_count": 28
        },
        {
          "output_type": "display_data",
          "data": {
            "image/png": "[encoded data removed]",
            "text/plain": [
              "<Figure size 432x288 with 1 Axes>"
            ]
          },
          "metadata": {
            "needs_background": "light"
          }
        }
      ]
    },
    {
      "cell_type": "markdown",
      "metadata": {
        "id": "CV3RQ4L1f95c"
      },
      "source": [
        "¡Se ve bastante lineal! Aprovechemos esto para averiguar el $k$ utilizando un ajuste hecho con el método de cuadrados mínimos, ajustando los datos al modelo \n",
        "\n",
        "$Confirmados=e^{k(t-t_0)}$\n",
        "\n"
      ]
    },
    {
      "cell_type": "code",
      "metadata": {
        "id": "L4b5BB9lfyTQ"
      },
      "source": [
        "#definimos función para ajustar modelo\n",
        "def exponencial(t,k,t0):\n",
        "  C=np.exp(k*(t-t0))\n",
        "  return C"
      ],
      "execution_count": null,
      "outputs": []
    },
    {
      "cell_type": "code",
      "metadata": {
        "colab": {
          "base_uri": "https://localhost:8080/"
        },
        "id": "qJF6X5lHh6_K",
        "outputId": "b9ebb8b7-ce2f-49da-807f-6f5d06f183f4"
      },
      "source": [
        "#Colombia\n",
        "popt, pcov = curve_fit(exponencial, dias_principio, casos_principio,maxfev=1000)\n",
        "popt"
      ],
      "execution_count": null,
      "outputs": [
        {
          "output_type": "execute_result",
          "data": {
            "text/plain": [
              "array([ 3.64596464e-02, -2.88000213e+02])"
            ]
          },
          "metadata": {},
          "execution_count": 30
        }
      ]
    },
    {
      "cell_type": "code",
      "metadata": {
        "colab": {
          "base_uri": "https://localhost:8080/"
        },
        "id": "pucP95AD6xAS",
        "outputId": "1e3ce27d-0cef-4a36-9061-cbd38990febd"
      },
      "source": [
        "popt"
      ],
      "execution_count": null,
      "outputs": [
        {
          "output_type": "execute_result",
          "data": {
            "text/plain": [
              "array([ 3.64596464e-02, -2.88000213e+02])"
            ]
          },
          "metadata": {},
          "execution_count": 31
        }
      ]
    },
    {
      "cell_type": "code",
      "metadata": {
        "colab": {
          "base_uri": "https://localhost:8080/"
        },
        "id": "UoCU08FZ61Dx",
        "outputId": "94bf1cff-fafc-4e30-a803-cfad61b71ea7"
      },
      "source": [
        "pcov"
      ],
      "execution_count": null,
      "outputs": [
        {
          "output_type": "execute_result",
          "data": {
            "text/plain": [
              "array([[1.02138308e-07, 9.35187426e-04],\n",
              "       [9.35187426e-04, 8.56583811e+00]])"
            ]
          },
          "metadata": {},
          "execution_count": 32
        }
      ]
    },
    {
      "cell_type": "code",
      "metadata": {
        "colab": {
          "base_uri": "https://localhost:8080/",
          "height": 285
        },
        "id": "wzBgxnf4iQqq",
        "outputId": "3a855020-a278-4f83-9010-3aa432d6aac3"
      },
      "source": [
        "k=popt[0]\n",
        "t0=popt[1]\n",
        "casos_simu=exponencial(dias_principio,k,t0)\n",
        "plt.plot(dias_principio,casos_principio,'.')\n",
        "plt.plot(dias_principio,casos_simu)"
      ],
      "execution_count": null,
      "outputs": [
        {
          "output_type": "execute_result",
          "data": {
            "text/plain": [
              "[<matplotlib.lines.Line2D at 0x7f24f0800690>]"
            ]
          },
          "metadata": {},
          "execution_count": 33
        },
        {
          "output_type": "display_data",
          "data": {
            "image/png": "[encoded data removed]",
            "text/plain": [
              "<Figure size 432x288 with 1 Axes>"
            ]
          },
          "metadata": {
            "needs_background": "light"
          }
        }
      ]
    },
    {
      "cell_type": "markdown",
      "metadata": {
        "id": "MUIGzcGJeDfO"
      },
      "source": [
        "## $k$ de Colombia "
      ]
    },
    {
      "cell_type": "code",
      "metadata": {
        "colab": {
          "base_uri": "https://localhost:8080/"
        },
        "id": "6Bz85cL60lgH",
        "outputId": "ea5c98b8-f89e-4981-bada-1e1c141e7e71"
      },
      "source": [
        "kc = k\n",
        "kc"
      ],
      "execution_count": null,
      "outputs": [
        {
          "output_type": "execute_result",
          "data": {
            "text/plain": [
              "0.036459646422087225"
            ]
          },
          "metadata": {},
          "execution_count": 34
        }
      ]
    },
    {
      "cell_type": "code",
      "metadata": {
        "colab": {
          "base_uri": "https://localhost:8080/"
        },
        "id": "geHsKDXQ-M9K",
        "outputId": "f27677ed-80f8-4705-9508-3aa18eccc828"
      },
      "source": [
        "#Noruega\n",
        "popt, pcov = curve_fit(exponencial, dias_principioN, casos_principioN,maxfev=1000)\n",
        "popt"
      ],
      "execution_count": null,
      "outputs": [
        {
          "output_type": "execute_result",
          "data": {
            "text/plain": [
              "array([ 2.73154022e-03, -3.25456488e+03])"
            ]
          },
          "metadata": {},
          "execution_count": 35
        }
      ]
    },
    {
      "cell_type": "code",
      "metadata": {
        "colab": {
          "base_uri": "https://localhost:8080/"
        },
        "id": "9FhbAT4z-c2I",
        "outputId": "c79c9934-b0b9-4ab5-e9dc-f9e1adc78b59"
      },
      "source": [
        "popt"
      ],
      "execution_count": null,
      "outputs": [
        {
          "output_type": "execute_result",
          "data": {
            "text/plain": [
              "array([ 2.73154022e-03, -3.25456488e+03])"
            ]
          },
          "metadata": {},
          "execution_count": 36
        }
      ]
    },
    {
      "cell_type": "code",
      "metadata": {
        "colab": {
          "base_uri": "https://localhost:8080/"
        },
        "id": "GOPVDV_7-dX5",
        "outputId": "21e3487f-e297-4f6a-dba3-06603908ca63"
      },
      "source": [
        "pcov"
      ],
      "execution_count": null,
      "outputs": [
        {
          "output_type": "execute_result",
          "data": {
            "text/plain": [
              "array([[1.95726169e-08, 2.36267136e-02],\n",
              "       [2.36267136e-02, 2.85206652e+04]])"
            ]
          },
          "metadata": {},
          "execution_count": 37
        }
      ]
    },
    {
      "cell_type": "code",
      "metadata": {
        "colab": {
          "base_uri": "https://localhost:8080/",
          "height": 285
        },
        "id": "HgpCW8Xd_e-d",
        "outputId": "91d65302-7f67-40af-9fd2-85699864b483"
      },
      "source": [
        "k=popt[0]\n",
        "t0=popt[1]\n",
        "casos_simuN=exponencial(dias_principioN,k,t0)\n",
        "plt.plot(dias_principioN,casos_principioN,'.')\n",
        "plt.plot(dias_principioN,casos_simuN)"
      ],
      "execution_count": null,
      "outputs": [
        {
          "output_type": "execute_result",
          "data": {
            "text/plain": [
              "[<matplotlib.lines.Line2D at 0x7f24f076cc90>]"
            ]
          },
          "metadata": {},
          "execution_count": 38
        },
        {
          "output_type": "display_data",
          "data": {
            "image/png": "[encoded data removed]",
            "text/plain": [
              "<Figure size 432x288 with 1 Axes>"
            ]
          },
          "metadata": {
            "needs_background": "light"
          }
        }
      ]
    },
    {
      "cell_type": "markdown",
      "metadata": {
        "id": "a5m0sBKIeH8T"
      },
      "source": [
        "## $k$ de Noruega \n"
      ]
    },
    {
      "cell_type": "code",
      "metadata": {
        "colab": {
          "base_uri": "https://localhost:8080/"
        },
        "id": "QszkiriC04Hu",
        "outputId": "c01d5b67-d987-44a2-c4a7-7da1f503d70a"
      },
      "source": [
        "kn = k\n",
        "kn"
      ],
      "execution_count": null,
      "outputs": [
        {
          "output_type": "execute_result",
          "data": {
            "text/plain": [
              "0.002731540222401003"
            ]
          },
          "metadata": {},
          "execution_count": 39
        }
      ]
    },
    {
      "cell_type": "code",
      "metadata": {
        "colab": {
          "base_uri": "https://localhost:8080/"
        },
        "id": "8KdCW4Gp-NF2",
        "outputId": "8aca979c-665c-4d8e-8a4a-3a42fa7bc581"
      },
      "source": [
        "#Canada\n",
        "popt, pcov = curve_fit(exponencial, dias_principioC, casos_principioC,maxfev=1000)\n",
        "popt"
      ],
      "execution_count": null,
      "outputs": [
        {
          "output_type": "execute_result",
          "data": {
            "text/plain": [
              "array([ 7.23994152e-02, -9.17425089e+01])"
            ]
          },
          "metadata": {},
          "execution_count": 40
        }
      ]
    },
    {
      "cell_type": "code",
      "metadata": {
        "colab": {
          "base_uri": "https://localhost:8080/"
        },
        "id": "qi-MWzR8_IBi",
        "outputId": "c80dedff-10aa-4ba0-fe8a-482ec8cf89df"
      },
      "source": [
        "popt"
      ],
      "execution_count": null,
      "outputs": [
        {
          "output_type": "execute_result",
          "data": {
            "text/plain": [
              "array([ 7.23994152e-02, -9.17425089e+01])"
            ]
          },
          "metadata": {},
          "execution_count": 41
        }
      ]
    },
    {
      "cell_type": "code",
      "metadata": {
        "colab": {
          "base_uri": "https://localhost:8080/"
        },
        "id": "WuuVR9gU_ITc",
        "outputId": "ec8b7ce9-222c-42e3-a336-841f0d64793b"
      },
      "source": [
        "pcov"
      ],
      "execution_count": null,
      "outputs": [
        {
          "output_type": "execute_result",
          "data": {
            "text/plain": [
              "array([[7.27875022e-06, 1.40847415e-02],\n",
              "       [1.40847415e-02, 2.72944201e+01]])"
            ]
          },
          "metadata": {},
          "execution_count": 42
        }
      ]
    },
    {
      "cell_type": "code",
      "metadata": {
        "colab": {
          "base_uri": "https://localhost:8080/",
          "height": 285
        },
        "id": "AVcdSRMt_Q1E",
        "outputId": "fd956892-1610-4acc-8081-77fae299f6dc"
      },
      "source": [
        "k=popt[0]\n",
        "t0=popt[1]\n",
        "casos_simuC=exponencial(dias_principioC,k,t0)\n",
        "plt.plot(dias_principioC,casos_principioC,'.')\n",
        "plt.plot(dias_principioC,casos_simuC)"
      ],
      "execution_count": null,
      "outputs": [
        {
          "output_type": "execute_result",
          "data": {
            "text/plain": [
              "[<matplotlib.lines.Line2D at 0x7f24f06d9b10>]"
            ]
          },
          "metadata": {},
          "execution_count": 43
        },
        {
          "output_type": "display_data",
          "data": {
            "image/png": "[encoded data removed]",
            "text/plain": [
              "<Figure size 432x288 with 1 Axes>"
            ]
          },
          "metadata": {
            "needs_background": "light"
          }
        }
      ]
    },
    {
      "cell_type": "markdown",
      "metadata": {
        "id": "ARNKQE8GeK56"
      },
      "source": [
        "## $k$ de Canadá \n"
      ]
    },
    {
      "cell_type": "code",
      "metadata": {
        "colab": {
          "base_uri": "https://localhost:8080/"
        },
        "id": "CYD4rLo11hTY",
        "outputId": "e30af1ef-2c68-438f-b22c-3531ba438135"
      },
      "source": [
        "kca = k\n",
        "kca"
      ],
      "execution_count": null,
      "outputs": [
        {
          "output_type": "execute_result",
          "data": {
            "text/plain": [
              "0.07239941523135933"
            ]
          },
          "metadata": {},
          "execution_count": 44
        }
      ]
    },
    {
      "cell_type": "code",
      "metadata": {
        "id": "vLiiBXEdyHFO"
      },
      "source": [
        "ks = [kc,kn,kca]\n",
        "ks = pd.DataFrame(ks)"
      ],
      "execution_count": null,
      "outputs": []
    },
    {
      "cell_type": "code",
      "metadata": {
        "colab": {
          "base_uri": "https://localhost:8080/",
          "height": 300
        },
        "id": "HciOM-0nH-cs",
        "outputId": "a0379c31-58d7-4fdf-b402-e234cc9fa717"
      },
      "source": [
        "ks.describe()"
      ],
      "execution_count": null,
      "outputs": [
        {
          "output_type": "execute_result",
          "data": {
            "text/html": [
              "<div>\n",
              "<style scoped>\n",
              "    .dataframe tbody tr th:only-of-type {\n",
              "        vertical-align: middle;\n",
              "    }\n",
              "\n",
              "    .dataframe tbody tr th {\n",
              "        vertical-align: top;\n",
              "    }\n",
              "\n",
              "    .dataframe thead th {\n",
              "        text-align: right;\n",
              "    }\n",
              "</style>\n",
              "<table border=\"1\" class=\"dataframe\">\n",
              "  <thead>\n",
              "    <tr style=\"text-align: right;\">\n",
              "      <th></th>\n",
              "      <th>0</th>\n",
              "    </tr>\n",
              "  </thead>\n",
              "  <tbody>\n",
              "    <tr>\n",
              "      <th>count</th>\n",
              "      <td>3.000000</td>\n",
              "    </tr>\n",
              "    <tr>\n",
              "      <th>mean</th>\n",
              "      <td>0.037197</td>\n",
              "    </tr>\n",
              "    <tr>\n",
              "      <th>std</th>\n",
              "      <td>0.034840</td>\n",
              "    </tr>\n",
              "    <tr>\n",
              "      <th>min</th>\n",
              "      <td>0.002732</td>\n",
              "    </tr>\n",
              "    <tr>\n",
              "      <th>25%</th>\n",
              "      <td>0.019596</td>\n",
              "    </tr>\n",
              "    <tr>\n",
              "      <th>50%</th>\n",
              "      <td>0.036460</td>\n",
              "    </tr>\n",
              "    <tr>\n",
              "      <th>75%</th>\n",
              "      <td>0.054430</td>\n",
              "    </tr>\n",
              "    <tr>\n",
              "      <th>max</th>\n",
              "      <td>0.072399</td>\n",
              "    </tr>\n",
              "  </tbody>\n",
              "</table>\n",
              "</div>"
            ],
            "text/plain": [
              "              0\n",
              "count  3.000000\n",
              "mean   0.037197\n",
              "std    0.034840\n",
              "min    0.002732\n",
              "25%    0.019596\n",
              "50%    0.036460\n",
              "75%    0.054430\n",
              "max    0.072399"
            ]
          },
          "metadata": {},
          "execution_count": 46
        }
      ]
    },
    {
      "cell_type": "markdown",
      "metadata": {
        "id": "7IwKo8ray2Qx"
      },
      "source": [
        "## Vamos ahora a generar un intervalo de confianza para nuestras predicciones "
      ]
    },
    {
      "cell_type": "code",
      "metadata": {
        "colab": {
          "base_uri": "https://localhost:8080/"
        },
        "id": "JFmnCxvmy3aW",
        "outputId": "0318cf3f-1028-42af-8e36-f86fa13c1b2d"
      },
      "source": [
        "\n",
        "mu_ks=np.mean(ks)\n",
        "sigma_ks=np.std(ks)\n",
        "z=1.96\n",
        "n100=len(ks)\n",
        "int_conf= [mu_ks-z*sigma_ks/np.sqrt(n100),mu_ks+z*sigma_ks/np.sqrt(n100)]\n",
        "print(f\"{int_conf }\")\n",
        "print(f\"{(int_conf[1] - int_conf[0])}\")\n",
        "\n"
      ],
      "execution_count": null,
      "outputs": [
        {
          "output_type": "stream",
          "name": "stdout",
          "text": [
            "[0    0.005007\n",
            "dtype: float64, 0    0.069387\n",
            "dtype: float64]\n",
            "0    0.064381\n",
            "dtype: float64\n"
          ]
        }
      ]
    },
    {
      "cell_type": "markdown",
      "metadata": {
        "id": "BWQru9bw8H4t"
      },
      "source": [
        "## Vemos entonces que el intervalo de confianza de confianza de $k$  para los 3 paises escogidos se encuentra entre [0.005007 , 0.069387] con una diferencia  de 0.064381 entre los valores del intervalo  "
      ]
    },
    {
      "cell_type": "markdown",
      "metadata": {
        "id": "LXKL5Bk299Ek"
      },
      "source": [
        "## El criterio de selección para este análisis fue el tratar de contrastar países con una alta inversión en bienestar social versus países con políticas de corte neoliberal, así como países con una alta afluencia de viajeros provenientes de EEUU y de esta manea poder hacer una radiografía de cuales fueron sus estrategias y quienes tuvieron un mejor manejo de la crisis "
      ]
    },
    {
      "cell_type": "markdown",
      "metadata": {
        "id": "BCejlEcJE2KL"
      },
      "source": [
        "## El $k$ promedio obtenido para este análisis fue de 0.037197 , que como tal para un análisis del k mundial no sería representativo ya que  de factores políticos , sociales y económicos dependió el manejo de la crisis en cada país;  pero si es representativo para contrastar el efecto de políticas económicas que rigen la salud y en vez de democratizarla la mercantiliza; aparte de poder evidenciar la asimetría entre países que tienen impuestos a la riqueza y bajos sueldos parlamentarios a los que tienen menos regulación y “libertad económica”"
      ]
    },
    {
      "cell_type": "markdown",
      "metadata": {
        "id": "Or4MYGHtiZzR"
      },
      "source": [
        "## Vamos ahora ahora a comparar el $k$ entre los paises escogidos"
      ]
    },
    {
      "cell_type": "code",
      "metadata": {
        "colab": {
          "base_uri": "https://localhost:8080/",
          "height": 409
        },
        "id": "HSs-YUCl5vKy",
        "outputId": "8525510d-b8aa-46c5-ad5c-8e6f4fc37cb9"
      },
      "source": [
        "\n",
        "ks.plot(kind=\"bar\",color ='g''y''r',figsize=(5,5),title='$k$ para Colombia Noruega y Canada')"
      ],
      "execution_count": null,
      "outputs": [
        {
          "output_type": "stream",
          "name": "stderr",
          "text": [
            "/usr/local/lib/python3.7/dist-packages/pandas/plotting/_matplotlib/core.py:1373: MatplotlibDeprecationWarning: Using a string of single character colors as a color sequence is deprecated. Use an explicit list instead.\n",
            "  return ax.bar(x, y, w, bottom=start, log=log, **kwds)\n"
          ]
        },
        {
          "output_type": "execute_result",
          "data": {
            "text/plain": [
              "<matplotlib.axes._subplots.AxesSubplot at 0x7f24f0412110>"
            ]
          },
          "metadata": {},
          "execution_count": 48
        },
        {
          "output_type": "display_data",
          "data": {
            "image/png": "[encoded data removed]",
            "text/plain": [
              "<Figure size 360x360 with 1 Axes>"
            ]
          },
          "metadata": {
            "needs_background": "light"
          }
        }
      ]
    },
    {
      "cell_type": "markdown",
      "metadata": {
        "id": "5VG8YwmgAyqD"
      },
      "source": [
        "\n",
        "## Podemos observar de este grafico que el $k$ más alto para el periodo escogido fue para Canadá seguido por Colombia y después por Noruega. y como es mencionado anteriormente los efectos de políticas depredadoras de la salud de los mas vulnerables mas el proteccionismo de los gobiernos con corporaciones se evidencia desde el principio de este evento \n",
        "  \n",
        "\n",
        "\n"
      ]
    },
    {
      "cell_type": "markdown",
      "metadata": {
        "id": "fQXImOQuhnYv"
      },
      "source": [
        "# -Politicas publicas "
      ]
    },
    {
      "cell_type": "markdown",
      "metadata": {
        "id": "DdERbobehufE"
      },
      "source": [
        "## Para esta parte del análisis vamos a comparar países que fueron más laxos en sus restricciones y solo aplicaron cuarentenas regionales o por ciudad, contra los que fueron más estrictos y tuvieron cuarentenas nacionales y para poder comparar entre estas políticas vamos a necesitar indicadores para este análisis  usaremos la cantidad de casos y la cantidad de test como el X  de nuestros modelos  y la cantidad de muertes normalizadas a 100k habitantes y convertida en 1 o 0 dependiendo del rango definido por el CDC  donde si esta por debajo de 100  casos por cada 100 mil habitantes entonces el número será 1(funciono la política) y si está por encima de será 0(no funciono la política) la informacion del CDC la pueden copnsultar en https://www.cdc.gov/coronavirus/2019-ncov/travelers/how-level-is-determined.html.\n",
        "\n",
        "###-Cuarentenas Nacionales\n",
        "    Colombia \n",
        "    Belgica \n",
        "    Argentina\n",
        "    Francia\n",
        "    Italia\n",
        "\n",
        "##-Cuarentenas regionales o por ciudad \n",
        "    Alemania\n",
        "    Finlandia\n",
        "    Japon\n",
        "    Rusia\n",
        "    brasil\n"
      ]
    },
    {
      "cell_type": "markdown",
      "metadata": {
        "id": "rBmHjE3yXjiD"
      },
      "source": [
        "## Vamos ahora a contruir los dataset con la informacion de los paises escogidos para este analisis"
      ]
    },
    {
      "cell_type": "code",
      "metadata": {
        "id": "h4ETEyRJxo-3"
      },
      "source": [
        "datos1 = datos.copy()\n",
        "datos1 = datos1[[\"Entity\",\"Total confirmed cases of COVID-19\",\"Total confirmed deaths due to COVID-19\",\"total_tests\"]]"
      ],
      "execution_count": null,
      "outputs": []
    },
    {
      "cell_type": "code",
      "metadata": {
        "id": "BZj8u48Rz8_c"
      },
      "source": [
        "datos1 = datos1[datos1.Entity.isin(['Colombia','Belgium','Argentina','France','Italy'])]\n",
        "\n",
        "\n"
      ],
      "execution_count": null,
      "outputs": []
    },
    {
      "cell_type": "code",
      "metadata": {
        "id": "seD_XUUe6EN6"
      },
      "source": [
        "datos_nacional = datos1.copy()\n",
        "\n"
      ],
      "execution_count": null,
      "outputs": []
    },
    {
      "cell_type": "markdown",
      "metadata": {
        "id": "MwcDbKz-ukXS"
      },
      "source": [
        "## Creamos un diccionario para la normalización de los datos "
      ]
    },
    {
      "cell_type": "code",
      "metadata": {
        "id": "xBXBmiIVW0c-"
      },
      "source": [
        "countries1 = {\"Colombia\": 50882891, \"Belgium\": 11589623,\"Argentina\":45195774,\"France\":65273511,\"Italy\":60461826}\n"
      ],
      "execution_count": null,
      "outputs": []
    },
    {
      "cell_type": "code",
      "metadata": {
        "id": "SBXnOlZFW05M"
      },
      "source": [
        "datos_nacional[\"normalized_casesx100k\"] = datos_nacional.apply(lambda row: row[\"Total confirmed deaths due to COVID-19\"]/ countries1.get(row.Entity) * 100000, axis=1)"
      ],
      "execution_count": null,
      "outputs": []
    },
    {
      "cell_type": "code",
      "metadata": {
        "id": "EVWnB-kRXd10"
      },
      "source": [
        "\n",
        "def binario1 (fila): \n",
        "  if fila < 100 :\n",
        "     return 1\n",
        "  else : \n",
        "     return 0 "
      ],
      "execution_count": null,
      "outputs": []
    },
    {
      "cell_type": "code",
      "metadata": {
        "id": "TTd3GZITXdo4"
      },
      "source": [
        "datos_nacional[\"binario1\"] = datos_nacional[\"normalized_casesx100k\"].map(binario1)"
      ],
      "execution_count": null,
      "outputs": []
    },
    {
      "cell_type": "code",
      "metadata": {
        "colab": {
          "base_uri": "https://localhost:8080/",
          "height": 206
        },
        "id": "PR4lpyQKYL4o",
        "outputId": "9dca68b4-5cb7-4631-8597-93ff85d2e4e6"
      },
      "source": [
        "datos_nacional.head()"
      ],
      "execution_count": null,
      "outputs": [
        {
          "output_type": "execute_result",
          "data": {
            "text/html": [
              "<div>\n",
              "<style scoped>\n",
              "    .dataframe tbody tr th:only-of-type {\n",
              "        vertical-align: middle;\n",
              "    }\n",
              "\n",
              "    .dataframe tbody tr th {\n",
              "        vertical-align: top;\n",
              "    }\n",
              "\n",
              "    .dataframe thead th {\n",
              "        text-align: right;\n",
              "    }\n",
              "</style>\n",
              "<table border=\"1\" class=\"dataframe\">\n",
              "  <thead>\n",
              "    <tr style=\"text-align: right;\">\n",
              "      <th></th>\n",
              "      <th>Entity</th>\n",
              "      <th>Total confirmed cases of COVID-19</th>\n",
              "      <th>Total confirmed deaths due to COVID-19</th>\n",
              "      <th>total_tests</th>\n",
              "      <th>normalized_casesx100k</th>\n",
              "      <th>binario1</th>\n",
              "    </tr>\n",
              "  </thead>\n",
              "  <tbody>\n",
              "    <tr>\n",
              "      <th>4333</th>\n",
              "      <td>Argentina</td>\n",
              "      <td>NaN</td>\n",
              "      <td>NaN</td>\n",
              "      <td>4.0</td>\n",
              "      <td>NaN</td>\n",
              "      <td>0</td>\n",
              "    </tr>\n",
              "    <tr>\n",
              "      <th>4334</th>\n",
              "      <td>Argentina</td>\n",
              "      <td>NaN</td>\n",
              "      <td>NaN</td>\n",
              "      <td>53.0</td>\n",
              "      <td>NaN</td>\n",
              "      <td>0</td>\n",
              "    </tr>\n",
              "    <tr>\n",
              "      <th>4335</th>\n",
              "      <td>Argentina</td>\n",
              "      <td>NaN</td>\n",
              "      <td>NaN</td>\n",
              "      <td>58.0</td>\n",
              "      <td>NaN</td>\n",
              "      <td>0</td>\n",
              "    </tr>\n",
              "    <tr>\n",
              "      <th>4336</th>\n",
              "      <td>Argentina</td>\n",
              "      <td>NaN</td>\n",
              "      <td>NaN</td>\n",
              "      <td>133.0</td>\n",
              "      <td>NaN</td>\n",
              "      <td>0</td>\n",
              "    </tr>\n",
              "    <tr>\n",
              "      <th>4337</th>\n",
              "      <td>Argentina</td>\n",
              "      <td>NaN</td>\n",
              "      <td>NaN</td>\n",
              "      <td>146.0</td>\n",
              "      <td>NaN</td>\n",
              "      <td>0</td>\n",
              "    </tr>\n",
              "  </tbody>\n",
              "</table>\n",
              "</div>"
            ],
            "text/plain": [
              "         Entity  Total confirmed cases of COVID-19  \\\n",
              "4333  Argentina NaN                                  \n",
              "4334  Argentina NaN                                  \n",
              "4335  Argentina NaN                                  \n",
              "4336  Argentina NaN                                  \n",
              "4337  Argentina NaN                                  \n",
              "\n",
              "      Total confirmed deaths due to COVID-19  total_tests  \\\n",
              "4333 NaN                                      4.0           \n",
              "4334 NaN                                      53.0          \n",
              "4335 NaN                                      58.0          \n",
              "4336 NaN                                      133.0         \n",
              "4337 NaN                                      146.0         \n",
              "\n",
              "      normalized_casesx100k  binario1  \n",
              "4333 NaN                     0         \n",
              "4334 NaN                     0         \n",
              "4335 NaN                     0         \n",
              "4336 NaN                     0         \n",
              "4337 NaN                     0         "
            ]
          },
          "metadata": {},
          "execution_count": 57
        }
      ]
    },
    {
      "cell_type": "code",
      "metadata": {
        "colab": {
          "base_uri": "https://localhost:8080/"
        },
        "id": "AUKDG5JzH9pe",
        "outputId": "1cd6670a-0589-4973-98dd-274b0480604b"
      },
      "source": [
        "for col in datos_nacional.columns:\n",
        "  nulos= datos_nacional[col].isna().sum()\n",
        "  print(col,   \"{:.2f}%\".format(nulos*100/3226))"
      ],
      "execution_count": null,
      "outputs": [
        {
          "output_type": "stream",
          "name": "stdout",
          "text": [
            "Entity 0.00%\n",
            "Total confirmed cases of COVID-19 1.39%\n",
            "Total confirmed deaths due to COVID-19 4.49%\n",
            "total_tests 24.98%\n",
            "normalized_casesx100k 4.49%\n",
            "binario1 0.00%\n"
          ]
        }
      ]
    },
    {
      "cell_type": "code",
      "metadata": {
        "id": "j86gBcnKZKyM"
      },
      "source": [
        "datos_nacional.fillna(0,inplace = True)"
      ],
      "execution_count": null,
      "outputs": []
    },
    {
      "cell_type": "markdown",
      "metadata": {
        "id": "r4CyMxAAXjws"
      },
      "source": [
        "## Ya con nuestros dataset construido para los países que aplicaron cuarentenas nacionales vamos a construir el clasificador de este.\n"
      ]
    },
    {
      "cell_type": "code",
      "metadata": {
        "id": "6W7VMyUJy3xx"
      },
      "source": [
        "X = datos_nacional[[\"normalized_casesx100k\"]]\n",
        "Y = datos_nacional[\"binario1\"]"
      ],
      "execution_count": null,
      "outputs": []
    },
    {
      "cell_type": "code",
      "metadata": {
        "id": "jLxMnwHvy37H"
      },
      "source": [
        "from sklearn.model_selection import train_test_split\n",
        "\n",
        "X_Train, X_Test, Y_Train, Y_Test = train_test_split(X, Y, test_size = 0.25, random_state=0)"
      ],
      "execution_count": null,
      "outputs": []
    },
    {
      "cell_type": "code",
      "metadata": {
        "id": "1rLRL_YKDFTz"
      },
      "source": [
        "\n",
        "from sklearn.preprocessing import StandardScaler\n",
        "\n",
        "sc_X = StandardScaler()\n",
        "X_Train = sc_X.fit_transform(X_Train)\n",
        "X_Test = sc_X.transform(X_Test)"
      ],
      "execution_count": null,
      "outputs": []
    },
    {
      "cell_type": "code",
      "metadata": {
        "colab": {
          "base_uri": "https://localhost:8080/"
        },
        "id": "KhP7BVy_DFd6",
        "outputId": "75203e6d-f3d2-4989-e393-b308e6d34a8c"
      },
      "source": [
        "from sklearn.svm import SVC\n",
        "\n",
        "classifier = SVC(kernel='linear')\n",
        "classifier.fit(X_Train, Y_Train)"
      ],
      "execution_count": null,
      "outputs": [
        {
          "output_type": "execute_result",
          "data": {
            "text/plain": [
              "SVC(kernel='linear')"
            ]
          },
          "metadata": {},
          "execution_count": 63
        }
      ]
    },
    {
      "cell_type": "code",
      "metadata": {
        "id": "YPleCio2DFnw"
      },
      "source": [
        "Y_Pred = classifier.predict(X_Test)"
      ],
      "execution_count": null,
      "outputs": []
    },
    {
      "cell_type": "code",
      "metadata": {
        "colab": {
          "base_uri": "https://localhost:8080/",
          "height": 528
        },
        "id": "Lw8KhnzIbIQc",
        "outputId": "c6d4ff77-9313-4c2e-f454-bcffa362fced"
      },
      "source": [
        "# Matriz de confusión \n",
        "from sklearn.metrics import confusion_matrix, classification_report\n",
        "cm = confusion_matrix(Y_Test, Y_Pred)\n",
        "\n",
        "fig, ax = plt.subplots(figsize=(12,8))\n",
        "ax.matshow(cm)\n",
        "plt.title('Matriz de Confusión', fontsize=20)\n",
        "plt.ylabel('Etiqueta Verdadera', fontsize=15)\n",
        "plt.xlabel('Etiqueta Predicha', fontsize=15)\n",
        "for (i, j), z in np.ndenumerate(cm):\n",
        "    ax.text(j, i, '{:0.1f}'.format(z), ha='center', va='center')"
      ],
      "execution_count": null,
      "outputs": [
        {
          "output_type": "display_data",
          "data": {
            "image/png": "[encoded data removed]",
            "text/plain": [
              "<Figure size 864x576 with 1 Axes>"
            ]
          },
          "metadata": {
            "needs_background": "light"
          }
        }
      ]
    },
    {
      "cell_type": "code",
      "metadata": {
        "colab": {
          "base_uri": "https://localhost:8080/"
        },
        "id": "huHXXTYZbItl",
        "outputId": "c7c1595d-0d36-4a5b-ca6b-4c11230c4124"
      },
      "source": [
        "# Reporte de Clasificación\n",
        "print(classification_report(Y_Test, Y_Pred))"
      ],
      "execution_count": null,
      "outputs": [
        {
          "output_type": "stream",
          "name": "stdout",
          "text": [
            "              precision    recall  f1-score   support\n",
            "\n",
            "           0       1.00      0.90      0.95       468\n",
            "           1       0.88      1.00      0.94       339\n",
            "\n",
            "    accuracy                           0.94       807\n",
            "   macro avg       0.94      0.95      0.94       807\n",
            "weighted avg       0.95      0.94      0.94       807\n",
            "\n"
          ]
        }
      ]
    },
    {
      "cell_type": "markdown",
      "metadata": {
        "id": "8qsLkfHcL8XG"
      },
      "source": [
        "## Ya tenemos el primer clasificador ahora vamos con los datos de paises que no aplicaron cuarentenas nacionales."
      ]
    },
    {
      "cell_type": "code",
      "metadata": {
        "id": "RZPM0xYi6O3A"
      },
      "source": [
        "datos2 = datos.copy()\n",
        "datos2 = datos2[[\"Entity\",\"Total confirmed cases of COVID-19\",\"Total confirmed deaths due to COVID-19\",\"total_tests\"]]"
      ],
      "execution_count": null,
      "outputs": []
    },
    {
      "cell_type": "code",
      "metadata": {
        "id": "5qY2ITQb1kBg"
      },
      "source": [
        "datos2 = datos2[datos2.Entity.isin(['Germany','Finland','Japan','Rusia','Brazil'])]\n"
      ],
      "execution_count": null,
      "outputs": []
    },
    {
      "cell_type": "code",
      "metadata": {
        "id": "ndjmGpRV7fR9"
      },
      "source": [
        "datos_regional = datos2.copy()"
      ],
      "execution_count": null,
      "outputs": []
    },
    {
      "cell_type": "code",
      "metadata": {
        "id": "GmSiW6w8eozL"
      },
      "source": [
        "countries2 ={\"Germany\":83783942,\"Finland\":5531000,\"Japan\":126476461,\"Rusia\":145934462,\"Brazil\":212559417}"
      ],
      "execution_count": null,
      "outputs": []
    },
    {
      "cell_type": "code",
      "metadata": {
        "id": "FoG-6rwGetHj"
      },
      "source": [
        "datos_regional[\"normalized_casesx100k\"] = datos_regional.apply(lambda row: row[\"Total confirmed deaths due to COVID-19\"]/ countries2.get(row.Entity) * 100000, axis=1)"
      ],
      "execution_count": null,
      "outputs": []
    },
    {
      "cell_type": "code",
      "metadata": {
        "id": "iaFrJ_V5etZU"
      },
      "source": [
        "def binario2 (fila): \n",
        "  if fila < 100 :\n",
        "     return 1\n",
        "  else : \n",
        "     return 0 "
      ],
      "execution_count": null,
      "outputs": []
    },
    {
      "cell_type": "code",
      "metadata": {
        "id": "B9ECKdHcgI6o"
      },
      "source": [
        "datos_regional[\"binario2\"] = datos_regional[\"normalized_casesx100k\"].map(binario2)"
      ],
      "execution_count": null,
      "outputs": []
    },
    {
      "cell_type": "code",
      "metadata": {
        "colab": {
          "base_uri": "https://localhost:8080/"
        },
        "id": "CM_Rg1sULhdu",
        "outputId": "7afabfe1-cb93-4c52-c6d5-bda1c965f526"
      },
      "source": [
        "for col in datos_regional.columns:\n",
        "  nulos= datos_regional[col].isna().sum()\n",
        "  print(col,   \"{:.2f}%\".format(nulos*100/2585))"
      ],
      "execution_count": null,
      "outputs": [
        {
          "output_type": "stream",
          "name": "stdout",
          "text": [
            "Entity 0.00%\n",
            "Total confirmed cases of COVID-19 0.00%\n",
            "Total confirmed deaths due to COVID-19 5.26%\n",
            "total_tests 47.27%\n",
            "normalized_casesx100k 5.26%\n",
            "binario2 0.00%\n"
          ]
        }
      ]
    },
    {
      "cell_type": "code",
      "metadata": {
        "id": "BvrIVtNCS77j"
      },
      "source": [
        "datos_regional.fillna(0,inplace = True)"
      ],
      "execution_count": null,
      "outputs": []
    },
    {
      "cell_type": "code",
      "metadata": {
        "id": "NjHrpDdHMTgL"
      },
      "source": [
        "X = datos_regional[[\"normalized_casesx100k\"]]\n",
        "Y = datos_regional[\"binario2\"]  "
      ],
      "execution_count": null,
      "outputs": []
    },
    {
      "cell_type": "code",
      "metadata": {
        "id": "cLHn7JnlMTp3"
      },
      "source": [
        "from sklearn.model_selection import train_test_split\n",
        "\n",
        "X_Train, X_Test, Y_Train, Y_Test = train_test_split(X, Y, test_size = 0.25, random_state=0)"
      ],
      "execution_count": null,
      "outputs": []
    },
    {
      "cell_type": "code",
      "metadata": {
        "id": "Zuk_3GwmMTy_"
      },
      "source": [
        "sc_X = StandardScaler()\n",
        "X_Train = sc_X.fit_transform(X_Train)\n",
        "X_Test = sc_X.transform(X_Test)"
      ],
      "execution_count": null,
      "outputs": []
    },
    {
      "cell_type": "code",
      "metadata": {
        "colab": {
          "base_uri": "https://localhost:8080/"
        },
        "id": "JYI4mlM-LhvH",
        "outputId": "6adf4244-a797-4a5b-9ead-d70f97900fc8"
      },
      "source": [
        "classifier = SVC(kernel='linear')\n",
        "classifier.fit(X_Train, Y_Train)"
      ],
      "execution_count": null,
      "outputs": [
        {
          "output_type": "execute_result",
          "data": {
            "text/plain": [
              "SVC(kernel='linear')"
            ]
          },
          "metadata": {},
          "execution_count": 79
        }
      ]
    },
    {
      "cell_type": "code",
      "metadata": {
        "id": "_ValSkzJLh4j"
      },
      "source": [
        "\n",
        "Y_Pred1 = classifier.predict(X_Test)"
      ],
      "execution_count": null,
      "outputs": []
    },
    {
      "cell_type": "code",
      "metadata": {
        "colab": {
          "base_uri": "https://localhost:8080/",
          "height": 528
        },
        "id": "zAMvK8qThWnZ",
        "outputId": "343d1838-a57d-4251-aedf-37c7cd904597"
      },
      "source": [
        "# Matriz de confusión \n",
        "from sklearn.metrics import confusion_matrix, classification_report\n",
        "cm = confusion_matrix(Y_Test, Y_Pred1)\n",
        "\n",
        "fig, ax = plt.subplots(figsize=(12,8))\n",
        "ax.matshow(cm)\n",
        "plt.title('Matriz de Confusión', fontsize=20)\n",
        "plt.ylabel('Etiqueta Verdadera', fontsize=15)\n",
        "plt.xlabel('Etiqueta Predicha', fontsize=15)\n",
        "for (i, j), z in np.ndenumerate(cm):\n",
        "    ax.text(j, i, '{:0.1f}'.format(z), ha='center', va='center')"
      ],
      "execution_count": null,
      "outputs": [
        {
          "output_type": "display_data",
          "data": {
            "image/png": "[encoded data removed]",
            "text/plain": [
              "<Figure size 864x576 with 1 Axes>"
            ]
          },
          "metadata": {
            "needs_background": "light"
          }
        }
      ]
    },
    {
      "cell_type": "code",
      "metadata": {
        "colab": {
          "base_uri": "https://localhost:8080/"
        },
        "id": "mKiLk2-YhsJP",
        "outputId": "4fc3b046-291a-4fe8-e8ee-47e69ff3d7b1"
      },
      "source": [
        "print(classification_report(Y_Test, Y_Pred1))"
      ],
      "execution_count": null,
      "outputs": [
        {
          "output_type": "stream",
          "name": "stdout",
          "text": [
            "              precision    recall  f1-score   support\n",
            "\n",
            "           0       0.72      0.75      0.73       153\n",
            "           1       0.92      0.91      0.92       494\n",
            "\n",
            "    accuracy                           0.87       647\n",
            "   macro avg       0.82      0.83      0.82       647\n",
            "weighted avg       0.87      0.87      0.87       647\n",
            "\n"
          ]
        }
      ]
    },
    {
      "cell_type": "markdown",
      "metadata": {
        "id": "qJkW5l_WUjIs"
      },
      "source": [
        "## Ya tenemos nuestros modelos para cada política publica vamos ahora a construir una regresión logística en base a la informacion de los 2 grupos."
      ]
    },
    {
      "cell_type": "code",
      "metadata": {
        "id": "itjSUp_lfVgK"
      },
      "source": [
        "datos3 = datos.copy()\n",
        "datos3 = datos3[[\"Entity\",\"Total confirmed cases of COVID-19\",\"Total confirmed deaths due to COVID-19\",\"total_tests\"]]"
      ],
      "execution_count": null,
      "outputs": []
    },
    {
      "cell_type": "code",
      "metadata": {
        "id": "SS7ojs2NgYk5"
      },
      "source": [
        "datos3 = datos3[datos3.Entity.isin(['Colombia','Belgium','Argentina','France','Italy',\n",
        "'Germany','Finland','Japan','Rusia','Brazil'])]"
      ],
      "execution_count": null,
      "outputs": []
    },
    {
      "cell_type": "code",
      "metadata": {
        "colab": {
          "base_uri": "https://localhost:8080/"
        },
        "id": "AYjvTFuthTuA",
        "outputId": "a9bbf197-3f13-4778-ad85-f8677e14b9ef"
      },
      "source": [
        "datos3.shape"
      ],
      "execution_count": null,
      "outputs": [
        {
          "output_type": "execute_result",
          "data": {
            "text/plain": [
              "(5811, 4)"
            ]
          },
          "metadata": {},
          "execution_count": 85
        }
      ]
    },
    {
      "cell_type": "code",
      "metadata": {
        "colab": {
          "base_uri": "https://localhost:8080/"
        },
        "id": "cRwYdEvkhT5O",
        "outputId": "3053d9f0-013b-4f37-9ed2-f522cc9a94eb"
      },
      "source": [
        "\n",
        "for col in datos3.columns:\n",
        "  nulos= datos3[col].isna().sum()\n",
        "  print(col,   \"{:.2f}%\".format(nulos*100/5811))"
      ],
      "execution_count": null,
      "outputs": [
        {
          "output_type": "stream",
          "name": "stdout",
          "text": [
            "Entity 0.00%\n",
            "Total confirmed cases of COVID-19 0.77%\n",
            "Total confirmed deaths due to COVID-19 4.84%\n",
            "total_tests 34.90%\n"
          ]
        }
      ]
    },
    {
      "cell_type": "code",
      "metadata": {
        "id": "a3-QdnfWgpqV"
      },
      "source": [
        "datos3.fillna(0,inplace = True)"
      ],
      "execution_count": null,
      "outputs": []
    },
    {
      "cell_type": "code",
      "metadata": {
        "id": "Swd2HEOj5-OV"
      },
      "source": [
        "countries = {\"Colombia\": 50882891, \"Belgium\": 11589623,\"Argentina\":45195774,\"France\":65273511,\"Italy\":60461826,\"Germany\":83783942,\"Finland\":5531000,\"Japan\":126476461,\"Rusia\":145934462,\"Brazil\":212559417}"
      ],
      "execution_count": null,
      "outputs": []
    },
    {
      "cell_type": "code",
      "metadata": {
        "id": "XsGoTrgg87lK"
      },
      "source": [
        "datos3[\"normalized_casesx100k\"] = datos3.apply(lambda row: row[\"Total confirmed deaths due to COVID-19\"]/ countries.get(row.Entity) * 100000, axis=1)"
      ],
      "execution_count": null,
      "outputs": []
    },
    {
      "cell_type": "code",
      "metadata": {
        "colab": {
          "base_uri": "https://localhost:8080/",
          "height": 206
        },
        "id": "jgjrnfF1873e",
        "outputId": "a89ff468-2784-4027-c7cf-b0358b022f9d"
      },
      "source": [
        "datos3.head()"
      ],
      "execution_count": null,
      "outputs": [
        {
          "output_type": "execute_result",
          "data": {
            "text/html": [
              "<div>\n",
              "<style scoped>\n",
              "    .dataframe tbody tr th:only-of-type {\n",
              "        vertical-align: middle;\n",
              "    }\n",
              "\n",
              "    .dataframe tbody tr th {\n",
              "        vertical-align: top;\n",
              "    }\n",
              "\n",
              "    .dataframe thead th {\n",
              "        text-align: right;\n",
              "    }\n",
              "</style>\n",
              "<table border=\"1\" class=\"dataframe\">\n",
              "  <thead>\n",
              "    <tr style=\"text-align: right;\">\n",
              "      <th></th>\n",
              "      <th>Entity</th>\n",
              "      <th>Total confirmed cases of COVID-19</th>\n",
              "      <th>Total confirmed deaths due to COVID-19</th>\n",
              "      <th>total_tests</th>\n",
              "      <th>normalized_casesx100k</th>\n",
              "    </tr>\n",
              "  </thead>\n",
              "  <tbody>\n",
              "    <tr>\n",
              "      <th>4333</th>\n",
              "      <td>Argentina</td>\n",
              "      <td>0.0</td>\n",
              "      <td>0.0</td>\n",
              "      <td>4.0</td>\n",
              "      <td>0.0</td>\n",
              "    </tr>\n",
              "    <tr>\n",
              "      <th>4334</th>\n",
              "      <td>Argentina</td>\n",
              "      <td>0.0</td>\n",
              "      <td>0.0</td>\n",
              "      <td>53.0</td>\n",
              "      <td>0.0</td>\n",
              "    </tr>\n",
              "    <tr>\n",
              "      <th>4335</th>\n",
              "      <td>Argentina</td>\n",
              "      <td>0.0</td>\n",
              "      <td>0.0</td>\n",
              "      <td>58.0</td>\n",
              "      <td>0.0</td>\n",
              "    </tr>\n",
              "    <tr>\n",
              "      <th>4336</th>\n",
              "      <td>Argentina</td>\n",
              "      <td>0.0</td>\n",
              "      <td>0.0</td>\n",
              "      <td>133.0</td>\n",
              "      <td>0.0</td>\n",
              "    </tr>\n",
              "    <tr>\n",
              "      <th>4337</th>\n",
              "      <td>Argentina</td>\n",
              "      <td>0.0</td>\n",
              "      <td>0.0</td>\n",
              "      <td>146.0</td>\n",
              "      <td>0.0</td>\n",
              "    </tr>\n",
              "  </tbody>\n",
              "</table>\n",
              "</div>"
            ],
            "text/plain": [
              "         Entity  Total confirmed cases of COVID-19  \\\n",
              "4333  Argentina  0.0                                 \n",
              "4334  Argentina  0.0                                 \n",
              "4335  Argentina  0.0                                 \n",
              "4336  Argentina  0.0                                 \n",
              "4337  Argentina  0.0                                 \n",
              "\n",
              "      Total confirmed deaths due to COVID-19  total_tests  \\\n",
              "4333  0.0                                     4.0           \n",
              "4334  0.0                                     53.0          \n",
              "4335  0.0                                     58.0          \n",
              "4336  0.0                                     133.0         \n",
              "4337  0.0                                     146.0         \n",
              "\n",
              "      normalized_casesx100k  \n",
              "4333  0.0                    \n",
              "4334  0.0                    \n",
              "4335  0.0                    \n",
              "4336  0.0                    \n",
              "4337  0.0                    "
            ]
          },
          "metadata": {},
          "execution_count": 90
        }
      ]
    },
    {
      "cell_type": "code",
      "metadata": {
        "id": "7VKDNDrwwGs0"
      },
      "source": [
        "def binario (fila): \n",
        "  if fila < 100 :\n",
        "     return 1\n",
        "  else : \n",
        "     return 0 "
      ],
      "execution_count": null,
      "outputs": []
    },
    {
      "cell_type": "code",
      "metadata": {
        "colab": {
          "base_uri": "https://localhost:8080/"
        },
        "id": "zUW3R-EjwzHd",
        "outputId": "dcf0ee1e-a2da-485f-f1e4-589cb9d18aea"
      },
      "source": [
        "binario(1000)"
      ],
      "execution_count": null,
      "outputs": [
        {
          "output_type": "execute_result",
          "data": {
            "text/plain": [
              "0"
            ]
          },
          "metadata": {},
          "execution_count": 92
        }
      ]
    },
    {
      "cell_type": "code",
      "metadata": {
        "id": "a72Ftu-rwzl4"
      },
      "source": [
        "datos3[\"binario\"] = datos3[\"normalized_casesx100k\"].map(binario)"
      ],
      "execution_count": null,
      "outputs": []
    },
    {
      "cell_type": "code",
      "metadata": {
        "colab": {
          "base_uri": "https://localhost:8080/",
          "height": 206
        },
        "id": "NN2fk8qhyPYw",
        "outputId": "4f0bcabc-2ca4-4a5d-8318-5bef0e7b1c07"
      },
      "source": [
        "datos3.head()"
      ],
      "execution_count": null,
      "outputs": [
        {
          "output_type": "execute_result",
          "data": {
            "text/html": [
              "<div>\n",
              "<style scoped>\n",
              "    .dataframe tbody tr th:only-of-type {\n",
              "        vertical-align: middle;\n",
              "    }\n",
              "\n",
              "    .dataframe tbody tr th {\n",
              "        vertical-align: top;\n",
              "    }\n",
              "\n",
              "    .dataframe thead th {\n",
              "        text-align: right;\n",
              "    }\n",
              "</style>\n",
              "<table border=\"1\" class=\"dataframe\">\n",
              "  <thead>\n",
              "    <tr style=\"text-align: right;\">\n",
              "      <th></th>\n",
              "      <th>Entity</th>\n",
              "      <th>Total confirmed cases of COVID-19</th>\n",
              "      <th>Total confirmed deaths due to COVID-19</th>\n",
              "      <th>total_tests</th>\n",
              "      <th>normalized_casesx100k</th>\n",
              "      <th>binario</th>\n",
              "    </tr>\n",
              "  </thead>\n",
              "  <tbody>\n",
              "    <tr>\n",
              "      <th>4333</th>\n",
              "      <td>Argentina</td>\n",
              "      <td>0.0</td>\n",
              "      <td>0.0</td>\n",
              "      <td>4.0</td>\n",
              "      <td>0.0</td>\n",
              "      <td>1</td>\n",
              "    </tr>\n",
              "    <tr>\n",
              "      <th>4334</th>\n",
              "      <td>Argentina</td>\n",
              "      <td>0.0</td>\n",
              "      <td>0.0</td>\n",
              "      <td>53.0</td>\n",
              "      <td>0.0</td>\n",
              "      <td>1</td>\n",
              "    </tr>\n",
              "    <tr>\n",
              "      <th>4335</th>\n",
              "      <td>Argentina</td>\n",
              "      <td>0.0</td>\n",
              "      <td>0.0</td>\n",
              "      <td>58.0</td>\n",
              "      <td>0.0</td>\n",
              "      <td>1</td>\n",
              "    </tr>\n",
              "    <tr>\n",
              "      <th>4336</th>\n",
              "      <td>Argentina</td>\n",
              "      <td>0.0</td>\n",
              "      <td>0.0</td>\n",
              "      <td>133.0</td>\n",
              "      <td>0.0</td>\n",
              "      <td>1</td>\n",
              "    </tr>\n",
              "    <tr>\n",
              "      <th>4337</th>\n",
              "      <td>Argentina</td>\n",
              "      <td>0.0</td>\n",
              "      <td>0.0</td>\n",
              "      <td>146.0</td>\n",
              "      <td>0.0</td>\n",
              "      <td>1</td>\n",
              "    </tr>\n",
              "  </tbody>\n",
              "</table>\n",
              "</div>"
            ],
            "text/plain": [
              "         Entity  Total confirmed cases of COVID-19  \\\n",
              "4333  Argentina  0.0                                 \n",
              "4334  Argentina  0.0                                 \n",
              "4335  Argentina  0.0                                 \n",
              "4336  Argentina  0.0                                 \n",
              "4337  Argentina  0.0                                 \n",
              "\n",
              "      Total confirmed deaths due to COVID-19  total_tests  \\\n",
              "4333  0.0                                     4.0           \n",
              "4334  0.0                                     53.0          \n",
              "4335  0.0                                     58.0          \n",
              "4336  0.0                                     133.0         \n",
              "4337  0.0                                     146.0         \n",
              "\n",
              "      normalized_casesx100k  binario  \n",
              "4333  0.0                    1        \n",
              "4334  0.0                    1        \n",
              "4335  0.0                    1        \n",
              "4336  0.0                    1        \n",
              "4337  0.0                    1        "
            ]
          },
          "metadata": {},
          "execution_count": 94
        }
      ]
    },
    {
      "cell_type": "markdown",
      "metadata": {
        "id": "GmWyTrEzGxqa"
      },
      "source": [
        "## Ahora que ya tenemos los datos de los 2 grupos de paises normalizados a la cantidad de casos por cada 100 mil habitantes, vamops ahora a contruir una regresion logistica \n"
      ]
    },
    {
      "cell_type": "code",
      "metadata": {
        "colab": {
          "base_uri": "https://localhost:8080/",
          "height": 302
        },
        "id": "bWn5Chd26hWJ",
        "outputId": "4e98f5e9-4174-4059-dda7-adc273c29def"
      },
      "source": [
        "X = datos3[[\"normalized_casesx100k\"]]\n",
        "Y = datos3[\"binario\"]\n",
        "plt.plot(X,Y,'.')\n",
        "plt.xlabel('Casos normalizados 100k')\n",
        "plt.ylabel('Binario')"
      ],
      "execution_count": null,
      "outputs": [
        {
          "output_type": "execute_result",
          "data": {
            "text/plain": [
              "Text(0, 0.5, 'Binario')"
            ]
          },
          "metadata": {},
          "execution_count": 97
        },
        {
          "output_type": "display_data",
          "data": {
            "image/png": "[encoded data removed]",
            "text/plain": [
              "<Figure size 432x288 with 1 Axes>"
            ]
          },
          "metadata": {
            "needs_background": "light"
          }
        }
      ]
    },
    {
      "cell_type": "code",
      "metadata": {
        "colab": {
          "base_uri": "https://localhost:8080/"
        },
        "id": "GbAJiiio-_rA",
        "outputId": "8ada3c18-6955-40c6-c2ec-fdbc0b111126"
      },
      "source": [
        "X['normalized_casesx100k'].shape"
      ],
      "execution_count": null,
      "outputs": [
        {
          "output_type": "execute_result",
          "data": {
            "text/plain": [
              "(5811,)"
            ]
          },
          "metadata": {},
          "execution_count": 98
        }
      ]
    },
    {
      "cell_type": "code",
      "metadata": {
        "colab": {
          "base_uri": "https://localhost:8080/"
        },
        "id": "GjuP-1e2_KP6",
        "outputId": "7d8f9187-ccdd-4696-ff21-d21cf0e1bee4"
      },
      "source": [
        "Y.shape"
      ],
      "execution_count": null,
      "outputs": [
        {
          "output_type": "execute_result",
          "data": {
            "text/plain": [
              "(5811,)"
            ]
          },
          "metadata": {},
          "execution_count": 99
        }
      ]
    },
    {
      "cell_type": "code",
      "metadata": {
        "id": "mQ8W0gzX4P-e"
      },
      "source": [
        "def sigmoidea(x, x0, k):\n",
        "    y = 1 / (1 + np.exp(-k*(x-x0)))\n",
        "    return (y)\n",
        "\n"
      ],
      "execution_count": null,
      "outputs": []
    },
    {
      "cell_type": "markdown",
      "metadata": {
        "id": "Gs5t995vw69E"
      },
      "source": [
        "## Vamos ahora a entrenar la funcion sigmoide que definimos con la funcion de Scy-py curvefit "
      ]
    },
    {
      "cell_type": "code",
      "metadata": {
        "colab": {
          "base_uri": "https://localhost:8080/"
        },
        "id": "WJScQTyT4QJK",
        "outputId": "875fd780-da09-4a8e-f454-ecf5316f63e6"
      },
      "source": [
        "p0 = [np.median(X), 1] # punto de partida para los parámetros\n",
        "\n",
        "popt, pcov = curve_fit(f=sigmoidea, xdata=X['normalized_casesx100k'], ydata=Y, p0=p0, method='dogbox') #hago fiteo\n",
        "print(popt)"
      ],
      "execution_count": null,
      "outputs": [
        {
          "output_type": "stream",
          "name": "stdout",
          "text": [
            "[ 99.9565696  -92.40606213]\n"
          ]
        },
        {
          "output_type": "stream",
          "name": "stderr",
          "text": [
            "/usr/local/lib/python3.7/dist-packages/pandas/core/series.py:726: RuntimeWarning: overflow encountered in exp\n",
            "  result = getattr(ufunc, method)(*inputs, **kwargs)\n"
          ]
        }
      ]
    },
    {
      "cell_type": "code",
      "metadata": {
        "colab": {
          "base_uri": "https://localhost:8080/",
          "height": 337
        },
        "id": "oNkjG-RO4QT2",
        "outputId": "dc5552f8-8282-4c1e-ea40-cc5fede3eb6e"
      },
      "source": [
        "sigmoidea=np.vectorize(sigmoidea) #asi puedo poner un x que sea vector y sabe que tiene que hacer el barrido por indices\n",
        "x_plot=np.arange(min(X['normalized_casesx100k']),max(X['normalized_casesx100k']),0.1)\n",
        "Y_ajustado=sigmoidea(x_plot,popt[0],popt[1])\n",
        "\n",
        "plt.plot(X,Y,'.',label=\"datos\")\n",
        "plt.plot(x_plot,Y_ajustado,label=\"ajuste\")\n",
        "plt.legend()\n",
        "plt.xlabel('normalized_casesx100k')\n",
        "plt.ylabel('binario')"
      ],
      "execution_count": null,
      "outputs": [
        {
          "output_type": "stream",
          "name": "stderr",
          "text": [
            "/usr/local/lib/python3.7/dist-packages/ipykernel_launcher.py:2: RuntimeWarning: overflow encountered in exp\n",
            "  \n"
          ]
        },
        {
          "output_type": "execute_result",
          "data": {
            "text/plain": [
              "Text(0, 0.5, 'binario')"
            ]
          },
          "metadata": {},
          "execution_count": 102
        },
        {
          "output_type": "display_data",
          "data": {
            "image/png": "[encoded data removed]",
            "text/plain": [
              "<Figure size 432x288 with 1 Axes>"
            ]
          },
          "metadata": {
            "needs_background": "light"
          }
        }
      ]
    },
    {
      "cell_type": "markdown",
      "metadata": {
        "id": "dqTMeYVdxuof"
      },
      "source": [
        "## ¿Qué clasificador funciono mejor? ¿Qué política funciono mejor? desde el punto de vista técnico el clasificador que mejor funciono fue el del primer grupo de países (cuarentenas nacionales) con una precisión de del 94% para predecir si iba a ser 1 o 0 (100 casos por cada 100k habitantes o no) ya desde el punto de vista de políticas públicas el grupo que tuvo la mayor cantidad de días positivos con menos de casos, fueron los que solo aplicaron cuarentenas regionales y por ciudades ya en este análisis habría que tener en cuenta  otros factores, como en qué región del mundo se encuentra la mayoría de países de cada grupo así como que tipo de gobiernos priman y este factor es muy importante ya que del tipo de gobierno deriva con cuanta celeridad y que tipo de medidas se tomaron para frenar el paso del virus, es entonces donde podemos identificar un patrón en nuestra información y es que los países que tomaron medidas tempranas como Alemania, Finlandia o Japón lograron mantener más tiempo los casos por debajo del límite aceptado mientras que países como Colombia o Argentina o Italia no tomaron medidas con tanta rapidez como los otros países por lo que fueron mas afectados por este suceso."
      ]
    },
    {
      "cell_type": "markdown",
      "metadata": {
        "id": "tZpoUQggxu3t"
      },
      "source": [
        "## ¿Qué preguntas nacen del trabajo ya realizado?  Queda para profundizar de este ejercicio la realización de una      clasificación de que tipo de gobierno hay por cada país y en base a esto medir la respuesta de los países en usando la cantidad de muertes totales como indicador \n"
      ]
    }
  ]
}